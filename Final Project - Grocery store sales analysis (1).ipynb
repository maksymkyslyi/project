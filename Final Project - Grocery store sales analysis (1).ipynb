{
 "cells": [
  {
   "cell_type": "markdown",
   "id": "e65c5391",
   "metadata": {
    "ExecuteTime": {
     "end_time": "2022-12-18T08:04:15.713512Z",
     "start_time": "2022-12-18T08:04:15.663451Z"
    }
   },
   "source": [
    "# Вітаю на фінальному проєкті!\n",
    "Протягом курсу ми навчились завантажувати дані в Python, трансформувати їх, чистити, агрегувати, знаходити з допомогою даних відповіді на наші питання. \n",
    "Задача фінального проєкту - продемонструвати той рівень роботи з даними, на якому ви є зараз. \n",
    "\n",
    "Цей ноутбук буде присвячений аналізу даних з файла `Grocery DataBase.xlsx`, який є в папці `Дані` на Диску. Так, це Excel файл, але ми можемо дуже просто завантажувати дані з нього у Python. Покажу пару команд для роботи з Excel файлом."
   ]
  },
  {
   "cell_type": "markdown",
   "id": "dd489c81",
   "metadata": {},
   "source": [
    "Для початку встановимо бібліотеку, яка потрібна для роботи з Excel файлами з pandas. Можна встановити тут, або в терміналі, але якщо Ви встановлюєте в терміналі, то після того треба перезапустити ядро (Kernel) ноутбуку, аби бібліотека точно підтягнулась. Іноді підтягується і без того, але це на випадок, що робити, якщо компілятор каже, що її не бачить."
   ]
  },
  {
   "cell_type": "code",
   "execution_count": 1,
   "id": "af2d9e73",
   "metadata": {
    "ExecuteTime": {
     "end_time": "2022-12-29T21:18:06.732550Z",
     "start_time": "2022-12-29T21:18:03.269564Z"
    }
   },
   "outputs": [
    {
     "name": "stdout",
     "output_type": "stream",
     "text": [
      "Requirement already satisfied: openpyxl in /Users/maksymkyslyi/anaconda3/lib/python3.10/site-packages (3.0.10)\r\n",
      "Requirement already satisfied: et_xmlfile in /Users/maksymkyslyi/anaconda3/lib/python3.10/site-packages (from openpyxl) (1.1.0)\r\n"
     ]
    }
   ],
   "source": [
    "!pip install openpyxl"
   ]
  },
  {
   "cell_type": "code",
   "execution_count": 70,
   "id": "84e6f8e0",
   "metadata": {
    "ExecuteTime": {
     "end_time": "2023-03-26T18:11:56.536548Z",
     "start_time": "2023-03-26T18:11:55.799895Z"
    }
   },
   "outputs": [],
   "source": [
    "import numpy as np\n",
    "import pandas as pd\n",
    "from matplotlib import pyplot as plt\n",
    "import seaborn as sns"
   ]
  },
  {
   "cell_type": "markdown",
   "id": "135ade72",
   "metadata": {},
   "source": [
    "Ось так можемо переглянути, які є листки в Excel файлі:"
   ]
  },
  {
   "cell_type": "code",
   "execution_count": 3,
   "id": "4c553f36",
   "metadata": {
    "ExecuteTime": {
     "end_time": "2023-03-26T18:12:03.680168Z",
     "start_time": "2023-03-26T18:12:03.677620Z"
    }
   },
   "outputs": [],
   "source": [
    "# замініть на шлях до файлу на своєму комп`ютері\n",
    "path_to_file = '../data/Grocery Database.xlsx'\n",
    "###Grocery Database.xlsx"
   ]
  },
  {
   "cell_type": "code",
   "execution_count": 4,
   "id": "974f0dff",
   "metadata": {
    "ExecuteTime": {
     "end_time": "2023-03-26T18:12:52.710942Z",
     "start_time": "2023-03-26T18:12:44.489284Z"
    },
    "scrolled": true
   },
   "outputs": [
    {
     "data": {
      "text/plain": [
       "['Grosto DB', 'Sheet2', 'Fact Summary']"
      ]
     },
     "execution_count": 4,
     "metadata": {},
     "output_type": "execute_result"
    }
   ],
   "source": [
    "xl = pd.ExcelFile(path_to_file)\n",
    "xl.sheet_names"
   ]
  },
  {
   "cell_type": "markdown",
   "id": "0acca52d",
   "metadata": {},
   "source": [
    "А так можемо зчитати конкретний листок:"
   ]
  },
  {
   "cell_type": "code",
   "execution_count": 5,
   "id": "c4867a07",
   "metadata": {
    "ExecuteTime": {
     "end_time": "2023-03-26T18:12:52.732634Z",
     "start_time": "2023-03-26T18:12:52.713195Z"
    }
   },
   "outputs": [
    {
     "data": {
      "text/html": [
       "<div>\n",
       "<style scoped>\n",
       "    .dataframe tbody tr th:only-of-type {\n",
       "        vertical-align: middle;\n",
       "    }\n",
       "\n",
       "    .dataframe tbody tr th {\n",
       "        vertical-align: top;\n",
       "    }\n",
       "\n",
       "    .dataframe thead th {\n",
       "        text-align: right;\n",
       "    }\n",
       "</style>\n",
       "<table border=\"1\" class=\"dataframe\">\n",
       "  <thead>\n",
       "    <tr style=\"text-align: right;\">\n",
       "      <th></th>\n",
       "      <th>S.No.</th>\n",
       "      <th>Column Name</th>\n",
       "      <th>Description of the Column names</th>\n",
       "    </tr>\n",
       "  </thead>\n",
       "  <tbody>\n",
       "    <tr>\n",
       "      <th>0</th>\n",
       "      <td>1</td>\n",
       "      <td>Receipt Number</td>\n",
       "      <td>Transaction Number</td>\n",
       "    </tr>\n",
       "    <tr>\n",
       "      <th>1</th>\n",
       "      <td>2</td>\n",
       "      <td>Date</td>\n",
       "      <td>Date of Transaction</td>\n",
       "    </tr>\n",
       "    <tr>\n",
       "      <th>2</th>\n",
       "      <td>3</td>\n",
       "      <td>Year</td>\n",
       "      <td>Year of Transaction</td>\n",
       "    </tr>\n",
       "    <tr>\n",
       "      <th>3</th>\n",
       "      <td>4</td>\n",
       "      <td>Month</td>\n",
       "      <td>Month of Transaction</td>\n",
       "    </tr>\n",
       "    <tr>\n",
       "      <th>4</th>\n",
       "      <td>5</td>\n",
       "      <td>Time</td>\n",
       "      <td>Time of the transaction</td>\n",
       "    </tr>\n",
       "    <tr>\n",
       "      <th>5</th>\n",
       "      <td>6</td>\n",
       "      <td>Mobile Number</td>\n",
       "      <td>Monbile number of the customer</td>\n",
       "    </tr>\n",
       "    <tr>\n",
       "      <th>6</th>\n",
       "      <td>7</td>\n",
       "      <td>Membership ID</td>\n",
       "      <td>Unique Membership ID of the Customer</td>\n",
       "    </tr>\n",
       "    <tr>\n",
       "      <th>7</th>\n",
       "      <td>8</td>\n",
       "      <td>Loyalty Card Points</td>\n",
       "      <td>Loyalty Points earned by customer (10 Points/1...</td>\n",
       "    </tr>\n",
       "    <tr>\n",
       "      <th>8</th>\n",
       "      <td>9</td>\n",
       "      <td>Age</td>\n",
       "      <td>Age of the Customer in the Company Database</td>\n",
       "    </tr>\n",
       "    <tr>\n",
       "      <th>9</th>\n",
       "      <td>10</td>\n",
       "      <td>Gender</td>\n",
       "      <td>Gender of the customer</td>\n",
       "    </tr>\n",
       "    <tr>\n",
       "      <th>10</th>\n",
       "      <td>11</td>\n",
       "      <td>City</td>\n",
       "      <td>City Name of store</td>\n",
       "    </tr>\n",
       "    <tr>\n",
       "      <th>11</th>\n",
       "      <td>12</td>\n",
       "      <td>Country</td>\n",
       "      <td>Country Name of store</td>\n",
       "    </tr>\n",
       "    <tr>\n",
       "      <th>12</th>\n",
       "      <td>13</td>\n",
       "      <td>Category</td>\n",
       "      <td>Category of Item bought by customer</td>\n",
       "    </tr>\n",
       "    <tr>\n",
       "      <th>13</th>\n",
       "      <td>14</td>\n",
       "      <td>Sub_Category</td>\n",
       "      <td>Sub-Category of Item bought by customer</td>\n",
       "    </tr>\n",
       "    <tr>\n",
       "      <th>14</th>\n",
       "      <td>15</td>\n",
       "      <td>Items</td>\n",
       "      <td>Name if the item  bought by customer</td>\n",
       "    </tr>\n",
       "    <tr>\n",
       "      <th>15</th>\n",
       "      <td>16</td>\n",
       "      <td>Brand</td>\n",
       "      <td>Brand of the Item bought</td>\n",
       "    </tr>\n",
       "    <tr>\n",
       "      <th>16</th>\n",
       "      <td>17</td>\n",
       "      <td>Description</td>\n",
       "      <td>Description of the Item (weight/volume/pack si...</td>\n",
       "    </tr>\n",
       "    <tr>\n",
       "      <th>17</th>\n",
       "      <td>18</td>\n",
       "      <td>Price</td>\n",
       "      <td>Price per unit of the Item</td>\n",
       "    </tr>\n",
       "    <tr>\n",
       "      <th>18</th>\n",
       "      <td>19</td>\n",
       "      <td>QTY</td>\n",
       "      <td>Quantity bought by the cistomer</td>\n",
       "    </tr>\n",
       "    <tr>\n",
       "      <th>19</th>\n",
       "      <td>20</td>\n",
       "      <td>DISC</td>\n",
       "      <td>Discount offered by store</td>\n",
       "    </tr>\n",
       "    <tr>\n",
       "      <th>20</th>\n",
       "      <td>21</td>\n",
       "      <td>Net Bill Amount</td>\n",
       "      <td>Amount exclusive of tax payable to customer</td>\n",
       "    </tr>\n",
       "    <tr>\n",
       "      <th>21</th>\n",
       "      <td>22</td>\n",
       "      <td>GST</td>\n",
       "      <td>Tax Payable</td>\n",
       "    </tr>\n",
       "    <tr>\n",
       "      <th>22</th>\n",
       "      <td>23</td>\n",
       "      <td>Gross Bill Amount</td>\n",
       "      <td>Gross Bill to be paid by customer inclusive of...</td>\n",
       "    </tr>\n",
       "    <tr>\n",
       "      <th>23</th>\n",
       "      <td>24</td>\n",
       "      <td>Payment Mode</td>\n",
       "      <td>Mode of payment opted by customer</td>\n",
       "    </tr>\n",
       "    <tr>\n",
       "      <th>24</th>\n",
       "      <td>25</td>\n",
       "      <td>Bank Name</td>\n",
       "      <td>Name of the Bank</td>\n",
       "    </tr>\n",
       "    <tr>\n",
       "      <th>25</th>\n",
       "      <td>26</td>\n",
       "      <td>% Profit Margin</td>\n",
       "      <td>Percentage profit margin of store</td>\n",
       "    </tr>\n",
       "    <tr>\n",
       "      <th>26</th>\n",
       "      <td>27</td>\n",
       "      <td>% Operating Cost</td>\n",
       "      <td>Percentage operating cost of store</td>\n",
       "    </tr>\n",
       "    <tr>\n",
       "      <th>27</th>\n",
       "      <td>28</td>\n",
       "      <td>% Product Cost</td>\n",
       "      <td>Percentage product cost to store</td>\n",
       "    </tr>\n",
       "    <tr>\n",
       "      <th>28</th>\n",
       "      <td>29</td>\n",
       "      <td>Profit Margin</td>\n",
       "      <td>Profit Margin earned by store</td>\n",
       "    </tr>\n",
       "    <tr>\n",
       "      <th>29</th>\n",
       "      <td>30</td>\n",
       "      <td>Operating Cost</td>\n",
       "      <td>Operating cost beared by the store</td>\n",
       "    </tr>\n",
       "    <tr>\n",
       "      <th>30</th>\n",
       "      <td>31</td>\n",
       "      <td>Product Cost</td>\n",
       "      <td>Product Cost for the store</td>\n",
       "    </tr>\n",
       "  </tbody>\n",
       "</table>\n",
       "</div>"
      ],
      "text/plain": [
       "    S.No.          Column Name  \\\n",
       "0       1       Receipt Number   \n",
       "1       2                 Date   \n",
       "2       3                 Year   \n",
       "3       4                Month   \n",
       "4       5                 Time   \n",
       "5       6        Mobile Number   \n",
       "6       7        Membership ID   \n",
       "7       8  Loyalty Card Points   \n",
       "8       9                  Age   \n",
       "9      10               Gender   \n",
       "10     11                 City   \n",
       "11     12              Country   \n",
       "12     13             Category   \n",
       "13     14         Sub_Category   \n",
       "14     15                Items   \n",
       "15     16               Brand    \n",
       "16     17         Description    \n",
       "17     18                Price   \n",
       "18     19                  QTY   \n",
       "19     20                 DISC   \n",
       "20     21      Net Bill Amount   \n",
       "21     22                  GST   \n",
       "22     23    Gross Bill Amount   \n",
       "23     24         Payment Mode   \n",
       "24     25            Bank Name   \n",
       "25     26      % Profit Margin   \n",
       "26     27     % Operating Cost   \n",
       "27     28       % Product Cost   \n",
       "28     29        Profit Margin   \n",
       "29     30       Operating Cost   \n",
       "30     31         Product Cost   \n",
       "\n",
       "                      Description of the Column names  \n",
       "0                                  Transaction Number  \n",
       "1                                 Date of Transaction  \n",
       "2                                 Year of Transaction  \n",
       "3                                Month of Transaction  \n",
       "4                             Time of the transaction  \n",
       "5                      Monbile number of the customer  \n",
       "6                Unique Membership ID of the Customer  \n",
       "7   Loyalty Points earned by customer (10 Points/1...  \n",
       "8         Age of the Customer in the Company Database  \n",
       "9                              Gender of the customer  \n",
       "10                                 City Name of store  \n",
       "11                              Country Name of store  \n",
       "12                Category of Item bought by customer  \n",
       "13            Sub-Category of Item bought by customer  \n",
       "14               Name if the item  bought by customer  \n",
       "15                           Brand of the Item bought  \n",
       "16  Description of the Item (weight/volume/pack si...  \n",
       "17                         Price per unit of the Item  \n",
       "18                    Quantity bought by the cistomer  \n",
       "19                          Discount offered by store  \n",
       "20        Amount exclusive of tax payable to customer  \n",
       "21                                        Tax Payable  \n",
       "22  Gross Bill to be paid by customer inclusive of...  \n",
       "23                  Mode of payment opted by customer  \n",
       "24                                   Name of the Bank  \n",
       "25                  Percentage profit margin of store  \n",
       "26                 Percentage operating cost of store  \n",
       "27                   Percentage product cost to store  \n",
       "28                      Profit Margin earned by store  \n",
       "29                 Operating cost beared by the store  \n",
       "30                         Product Cost for the store  "
      ]
     },
     "execution_count": 5,
     "metadata": {},
     "output_type": "execute_result"
    }
   ],
   "source": [
    "xl.parse('Fact Summary')"
   ]
  },
  {
   "cell_type": "markdown",
   "id": "d01a2c1b",
   "metadata": {},
   "source": [
    "Читати дані можна і з Pandas, але тут немає можливості переглянути наявні листки, а також довше відбувається читання даних."
   ]
  },
  {
   "cell_type": "code",
   "execution_count": 7,
   "id": "cb41aa83",
   "metadata": {
    "ExecuteTime": {
     "end_time": "2023-03-26T18:13:23.761169Z",
     "start_time": "2023-03-26T18:12:59.415713Z"
    }
   },
   "outputs": [],
   "source": [
    "df = pd.read_excel(path_to_file)"
   ]
  },
  {
   "cell_type": "markdown",
   "id": "cb8279fd",
   "metadata": {},
   "source": [
    "В файлі ви знайдете самі дані та опис колонок.   \n",
    "\n",
    "**Задача**: Уявіть, що Вам дали цей набір даних з питанням \"Що корисного ми можемо з них взяти для розвитку нашого бізнесу?\". То Вам необхідно розказати бізнесу історію про ці дані у форматі\n",
    "1. питання, яке Вас як робітника цього бізнесу, який дуже вболіває за його успіх, цікавить щодо цих даних\n",
    "2. код для відповіді на це питання\n",
    "3. висновки, які я можу зробити з огляду на результат виконання коду: які рішення ми можемо прийняти щодо подальших кроків в аналізі або які рекомендації Ви б дали бізнесу виходячи з результатів.\n",
    "\n",
    "**Необхідно** поставити до даних _мінімум_ 10 бізнес-питань, при цьому зробивши   \n",
    "- початковий аналіз даних: їх розмір, структура, наявність пропущених значень та що з ними зробити, зміна типів даних там, де це доречно зробити (наприклад, якщо колонка завантажилась як тип string, а з опису видно, що там має бути float) - ця частина не входить у бізнес-питання, але є необхідною при аналізі даних.  \n",
    "- _мінімум_ 1 зведену таблицю або її аналог\n",
    "- _мінімум_ 5 візуалізацій, 3 з яких мають різний тип (наприклад, scatter plot, line plot, pair plot)\n",
    "\n",
    "В даному мінімум-наборі немає вимоги на використання SQL та тестування статистичних гіпотез. Але якщо Вам хочеться потренуватись, то Ви можете це зробити скориставшись pandasql, а також перевірити, чи є відмінність між двома групами у якомусь показнику з допомогою тестування статистичних гіпотез. Останнє найбільш доречно, якщо, наприклад, ми беремо чоловіків і жінок, бачимо що у них доволі схожі середні чеки, але наче відрізняються. Аби зрозуміти, чи різниця статистично значущою, можна це перевірити з допомогою тестування стат. гіпотез.\n",
    "\n",
    "Питанням може бути як \"Яка є кількість унікальних чеків в цьому наборі даних?\" так і щось значно складніше. Якщо у Вас складне питання, і аби відповісти на нього Ви мали відповісти на 3 менших питання (зробити якісь трансформації над даними, подивитись щось), то це рахується як 3 питання з 10 необхідних у завданні. Звісно ж Ви можете зробити більше за встановлений мінімум - все буде перевірено :)\n",
    "\n",
    "Тут є великий простір для Вашої фантазії. **Тому рекомендація:** виділіть на це завданні певну кількість годин (наприклад, середнє значення по тому, скільки у Вас займало виконання домашніх завдань в курсі, але я рекомендую не менше 2х годин роботи)\n",
    "і поставте собі за ціль всю роботу вмістити в цю кількість годин.\n",
    "Це дозволить Вам управляти своїм часом, пріоритизувати питання, які ставите до даних. І так часто є в роботі: коли ми не знаємо, що ми шукаємо, ми ставимо обмеження по часу (задача типу spike) і робимо все, що встигнемо, за цей час.\n",
    "\n",
    "По закінченню - завантажуємо ноутбук на git і додаємо посилання в здачу роботи в Eduflow. \n",
    "До речі, з часом, вам може захотітись доповнити цей ноутбук, коли арсенал ваших навичок по роботі з даними розшириться. І це буде чудова ідея!\n",
    "\n",
    "**Успіхів!**"
   ]
  },
  {
   "cell_type": "code",
   "execution_count": 206,
   "id": "cf7db2c1",
   "metadata": {},
   "outputs": [
    {
     "data": {
      "text/html": [
       "<div>\n",
       "<style scoped>\n",
       "    .dataframe tbody tr th:only-of-type {\n",
       "        vertical-align: middle;\n",
       "    }\n",
       "\n",
       "    .dataframe tbody tr th {\n",
       "        vertical-align: top;\n",
       "    }\n",
       "\n",
       "    .dataframe thead th {\n",
       "        text-align: right;\n",
       "    }\n",
       "</style>\n",
       "<table border=\"1\" class=\"dataframe\">\n",
       "  <thead>\n",
       "    <tr style=\"text-align: right;\">\n",
       "      <th></th>\n",
       "      <th>Receipt Number</th>\n",
       "      <th>Date</th>\n",
       "      <th>Year</th>\n",
       "      <th>Month</th>\n",
       "      <th>Time</th>\n",
       "      <th>Mobile Number</th>\n",
       "      <th>Membership ID</th>\n",
       "      <th>Loyalty Card Points</th>\n",
       "      <th>Age</th>\n",
       "      <th>Gender</th>\n",
       "      <th>...</th>\n",
       "      <th>Gross Bill Amount</th>\n",
       "      <th>Payment Mode</th>\n",
       "      <th>Bank Name</th>\n",
       "      <th>% Profit Margin</th>\n",
       "      <th>% Operating Cost</th>\n",
       "      <th>% Product Cost</th>\n",
       "      <th>Profit Margin</th>\n",
       "      <th>Operating Cost</th>\n",
       "      <th>Product Cost</th>\n",
       "      <th>Net Profit</th>\n",
       "    </tr>\n",
       "  </thead>\n",
       "  <tbody>\n",
       "    <tr>\n",
       "      <th>0</th>\n",
       "      <td>GIJ00001</td>\n",
       "      <td>2016-01-02</td>\n",
       "      <td>2016</td>\n",
       "      <td>1</td>\n",
       "      <td>10:08:03.260000</td>\n",
       "      <td>9793548581</td>\n",
       "      <td>MIDID0001</td>\n",
       "      <td>1</td>\n",
       "      <td>36</td>\n",
       "      <td>Male</td>\n",
       "      <td>...</td>\n",
       "      <td>13.32408</td>\n",
       "      <td>Card</td>\n",
       "      <td>Enterprise Bank</td>\n",
       "      <td>0.150</td>\n",
       "      <td>0.15</td>\n",
       "      <td>0.700</td>\n",
       "      <td>1.85400</td>\n",
       "      <td>1.8540</td>\n",
       "      <td>8.65200</td>\n",
       "      <td>11.47008</td>\n",
       "    </tr>\n",
       "    <tr>\n",
       "      <th>1</th>\n",
       "      <td>GIJ00002</td>\n",
       "      <td>2016-01-02</td>\n",
       "      <td>2016</td>\n",
       "      <td>1</td>\n",
       "      <td>15:46:50.832000</td>\n",
       "      <td>9938441276</td>\n",
       "      <td>MIDID0002</td>\n",
       "      <td>2</td>\n",
       "      <td>54</td>\n",
       "      <td>Male</td>\n",
       "      <td>...</td>\n",
       "      <td>25.26480</td>\n",
       "      <td>Card</td>\n",
       "      <td>Philippine Veterans Bank</td>\n",
       "      <td>0.118</td>\n",
       "      <td>0.15</td>\n",
       "      <td>0.732</td>\n",
       "      <td>2.73760</td>\n",
       "      <td>3.4800</td>\n",
       "      <td>16.98240</td>\n",
       "      <td>21.78480</td>\n",
       "    </tr>\n",
       "    <tr>\n",
       "      <th>2</th>\n",
       "      <td>GIJ00003</td>\n",
       "      <td>2016-01-02</td>\n",
       "      <td>2016</td>\n",
       "      <td>1</td>\n",
       "      <td>11:28:52.166000</td>\n",
       "      <td>9976742552</td>\n",
       "      <td>MIDID0003</td>\n",
       "      <td>1</td>\n",
       "      <td>16</td>\n",
       "      <td>Female</td>\n",
       "      <td>...</td>\n",
       "      <td>42.18786</td>\n",
       "      <td>Cash</td>\n",
       "      <td>BDO Unibank</td>\n",
       "      <td>0.147</td>\n",
       "      <td>0.15</td>\n",
       "      <td>0.703</td>\n",
       "      <td>1.95657</td>\n",
       "      <td>1.9965</td>\n",
       "      <td>9.35693</td>\n",
       "      <td>40.19136</td>\n",
       "    </tr>\n",
       "    <tr>\n",
       "      <th>3</th>\n",
       "      <td>GIJ00003</td>\n",
       "      <td>2016-01-02</td>\n",
       "      <td>2016</td>\n",
       "      <td>1</td>\n",
       "      <td>11:28:52.166000</td>\n",
       "      <td>9976742552</td>\n",
       "      <td>MIDID0003</td>\n",
       "      <td>1</td>\n",
       "      <td>16</td>\n",
       "      <td>Female</td>\n",
       "      <td>...</td>\n",
       "      <td>42.18786</td>\n",
       "      <td>Cash</td>\n",
       "      <td>BDO Unibank</td>\n",
       "      <td>0.095</td>\n",
       "      <td>0.15</td>\n",
       "      <td>0.755</td>\n",
       "      <td>0.33440</td>\n",
       "      <td>0.5280</td>\n",
       "      <td>2.65760</td>\n",
       "      <td>41.65986</td>\n",
       "    </tr>\n",
       "    <tr>\n",
       "      <th>4</th>\n",
       "      <td>GIJ00003</td>\n",
       "      <td>2016-01-02</td>\n",
       "      <td>2016</td>\n",
       "      <td>1</td>\n",
       "      <td>11:28:52.166000</td>\n",
       "      <td>9976742552</td>\n",
       "      <td>MIDID0003</td>\n",
       "      <td>2</td>\n",
       "      <td>16</td>\n",
       "      <td>Female</td>\n",
       "      <td>...</td>\n",
       "      <td>42.18786</td>\n",
       "      <td>Cash</td>\n",
       "      <td>BDO Unibank</td>\n",
       "      <td>0.120</td>\n",
       "      <td>0.15</td>\n",
       "      <td>0.730</td>\n",
       "      <td>0.52920</td>\n",
       "      <td>0.6615</td>\n",
       "      <td>3.21930</td>\n",
       "      <td>41.52636</td>\n",
       "    </tr>\n",
       "  </tbody>\n",
       "</table>\n",
       "<p>5 rows × 33 columns</p>\n",
       "</div>"
      ],
      "text/plain": [
       "  Receipt Number       Date  Year  Month             Time  Mobile Number  \\\n",
       "0       GIJ00001 2016-01-02  2016      1  10:08:03.260000     9793548581   \n",
       "1       GIJ00002 2016-01-02  2016      1  15:46:50.832000     9938441276   \n",
       "2       GIJ00003 2016-01-02  2016      1  11:28:52.166000     9976742552   \n",
       "3       GIJ00003 2016-01-02  2016      1  11:28:52.166000     9976742552   \n",
       "4       GIJ00003 2016-01-02  2016      1  11:28:52.166000     9976742552   \n",
       "\n",
       "  Membership ID  Loyalty Card Points  Age  Gender  ... Gross Bill Amount  \\\n",
       "0     MIDID0001                    1   36    Male  ...          13.32408   \n",
       "1     MIDID0002                    2   54    Male  ...          25.26480   \n",
       "2     MIDID0003                    1   16  Female  ...          42.18786   \n",
       "3     MIDID0003                    1   16  Female  ...          42.18786   \n",
       "4     MIDID0003                    2   16  Female  ...          42.18786   \n",
       "\n",
       "  Payment Mode                 Bank Name % Profit Margin % Operating Cost  \\\n",
       "0         Card           Enterprise Bank           0.150             0.15   \n",
       "1         Card  Philippine Veterans Bank           0.118             0.15   \n",
       "2         Cash               BDO Unibank           0.147             0.15   \n",
       "3         Cash               BDO Unibank           0.095             0.15   \n",
       "4         Cash               BDO Unibank           0.120             0.15   \n",
       "\n",
       "  % Product Cost Profit Margin  Operating Cost  Product Cost  Net Profit  \n",
       "0          0.700       1.85400          1.8540       8.65200    11.47008  \n",
       "1          0.732       2.73760          3.4800      16.98240    21.78480  \n",
       "2          0.703       1.95657          1.9965       9.35693    40.19136  \n",
       "3          0.755       0.33440          0.5280       2.65760    41.65986  \n",
       "4          0.730       0.52920          0.6615       3.21930    41.52636  \n",
       "\n",
       "[5 rows x 33 columns]"
      ]
     },
     "execution_count": 206,
     "metadata": {},
     "output_type": "execute_result"
    }
   ],
   "source": [
    "df.head(5)"
   ]
  },
  {
   "cell_type": "code",
   "execution_count": 218,
   "id": "fabd3f76",
   "metadata": {},
   "outputs": [
    {
     "data": {
      "text/plain": [
       "Receipt Number                 object\n",
       "Date                   datetime64[ns]\n",
       "Year                            int64\n",
       "Month                           int64\n",
       "Time                   datetime64[ns]\n",
       "Mobile Number                   int64\n",
       "Membership ID                  object\n",
       "Loyalty Card Points             int64\n",
       "Age                             int64\n",
       "Gender                         object\n",
       "City                           object\n",
       "Country                        object\n",
       "Category                       object\n",
       "Sub_Category                   object\n",
       "Items                          object\n",
       "Brand                          object\n",
       "Description                    object\n",
       "Price                         float64\n",
       "QTY                             int64\n",
       "DISC                          float64\n",
       "Amount                        float64\n",
       "Net Bill Amount               float64\n",
       "GST                           float64\n",
       "Gross Bill Amount             float64\n",
       "Payment Mode                   object\n",
       "Bank Name                      object\n",
       "% Profit Margin               float64\n",
       "% Operating Cost              float64\n",
       "% Product Cost                float64\n",
       "Profit Margin                 float64\n",
       "Operating Cost                float64\n",
       "Product Cost                  float64\n",
       "Net Profit                    float64\n",
       "dtype: object"
      ]
     },
     "execution_count": 218,
     "metadata": {},
     "output_type": "execute_result"
    }
   ],
   "source": [
    "df.dtypes"
   ]
  },
  {
   "cell_type": "markdown",
   "id": "91c785c6",
   "metadata": {},
   "source": [
    "Визначити середню категорію покупців(Вік та Стать)"
   ]
  },
  {
   "cell_type": "code",
   "execution_count": 188,
   "id": "09b4bf9a",
   "metadata": {},
   "outputs": [
    {
     "data": {
      "text/plain": [
       "Receipt Number         0\n",
       "Date                   0\n",
       "Year                   0\n",
       "Month                  0\n",
       "Time                   0\n",
       "Mobile Number          0\n",
       "Membership ID          0\n",
       "Loyalty Card Points    0\n",
       "Age                    0\n",
       "Gender                 0\n",
       "City                   0\n",
       "Country                0\n",
       "Category               0\n",
       "Sub_Category           0\n",
       "Items                  0\n",
       "Brand                  0\n",
       "Description            0\n",
       "Price                  0\n",
       "QTY                    0\n",
       "DISC                   0\n",
       "Amount                 0\n",
       "Net Bill Amount        0\n",
       "GST                    0\n",
       "Gross Bill Amount      0\n",
       "Payment Mode           0\n",
       "Bank Name              0\n",
       "% Profit Margin        0\n",
       "% Operating Cost       0\n",
       "% Product Cost         0\n",
       "Profit Margin          0\n",
       "Operating Cost         0\n",
       "Product Cost           0\n",
       "Net Profit             0\n",
       "dtype: int64"
      ]
     },
     "execution_count": 188,
     "metadata": {},
     "output_type": "execute_result"
    }
   ],
   "source": [
    "df.isna().sum()"
   ]
  },
  {
   "cell_type": "code",
   "execution_count": 191,
   "id": "94edd1df",
   "metadata": {},
   "outputs": [
    {
     "data": {
      "text/plain": [
       "Female    0.829028\n",
       "Male      0.170972\n",
       "Name: Gender, dtype: float64"
      ]
     },
     "metadata": {},
     "output_type": "display_data"
    }
   ],
   "source": [
    "display(df.Gender.value_counts(normalize=True))\n"
   ]
  },
  {
   "cell_type": "code",
   "execution_count": 199,
   "id": "c6f7d027",
   "metadata": {},
   "outputs": [
    {
     "data": {
      "image/png": "[encoded data removed]",
      "text/plain": [
       "<Figure size 640x480 with 1 Axes>"
      ]
     },
     "metadata": {},
     "output_type": "display_data"
    }
   ],
   "source": [
    "gender_counts = df.Gender.value_counts(normalize=True)\n",
    "gender_counts.plot(kind='bar', color='steelblue', alpha=0.7)\n",
    "plt.xlabel('Cтать')\n",
    "plt.ylabel('Кількість')\n",
    "plt.title('Розподіл')\n",
    "plt.show()"
   ]
  },
  {
   "cell_type": "code",
   "execution_count": 200,
   "id": "779f3f2f",
   "metadata": {},
   "outputs": [
    {
     "data": {
      "text/plain": [
       "Gender\n",
       "Female    35.685429\n",
       "Male      36.365913\n",
       "Name: Age, dtype: float64"
      ]
     },
     "metadata": {},
     "output_type": "display_data"
    }
   ],
   "source": [
    "average_age_by_gender = df.groupby('Gender')['Age'].mean()\n",
    "display(average_age_by_gender)\n"
   ]
  },
  {
   "cell_type": "code",
   "execution_count": 184,
   "id": "a13c89d2",
   "metadata": {},
   "outputs": [
    {
     "data": {
      "image/png": "[encoded data removed]",
      "text/plain": [
       "<Figure size 800x600 with 1 Axes>"
      ]
     },
     "metadata": {},
     "output_type": "display_data"
    }
   ],
   "source": [
    "import seaborn as sns\n",
    "plt.figure(figsize=(8, 6))\n",
    "sns.boxplot(x='Gender', y='Age', data=df)\n",
    "plt.xlabel('Cтать')\n",
    "plt.ylabel('Вік')\n",
    "plt.title('Розподіли статі та віку покупців')\n",
    "plt.grid(axis='y', alpha=0.3)\n",
    "plt.show()\n"
   ]
  },
  {
   "cell_type": "markdown",
   "id": "6a33d00d",
   "metadata": {},
   "source": [
    "Бачимо що середній вік жінок та чоловіків приблизно однаковий. Але виходячи з попереднього графіку, жінки здійснюють більше покупок в магазинах з виборки."
   ]
  },
  {
   "cell_type": "markdown",
   "id": "55da1ecc",
   "metadata": {},
   "source": [
    "Подивитись яка виручка в окремих категоріях у різних містах."
   ]
  },
  {
   "cell_type": "code",
   "execution_count": 204,
   "id": "8a92518e",
   "metadata": {},
   "outputs": [
    {
     "data": {
      "text/html": [
       "<div>\n",
       "<style scoped>\n",
       "    .dataframe tbody tr th:only-of-type {\n",
       "        vertical-align: middle;\n",
       "    }\n",
       "\n",
       "    .dataframe tbody tr th {\n",
       "        vertical-align: top;\n",
       "    }\n",
       "\n",
       "    .dataframe thead th {\n",
       "        text-align: right;\n",
       "    }\n",
       "</style>\n",
       "<table border=\"1\" class=\"dataframe\">\n",
       "  <thead>\n",
       "    <tr style=\"text-align: right;\">\n",
       "      <th>Category</th>\n",
       "      <th>Bakery &amp; Breakfast</th>\n",
       "      <th>Beauty</th>\n",
       "      <th>Beverages</th>\n",
       "      <th>Choco, Snacks, Sweets</th>\n",
       "      <th>Dairy, Chilled &amp; Eggs</th>\n",
       "      <th>Frozen</th>\n",
       "      <th>Fruit &amp; Vegetable</th>\n",
       "      <th>Health</th>\n",
       "      <th>Household</th>\n",
       "      <th>Kitchen &amp; Dining</th>\n",
       "      <th>Meat &amp; Seafood</th>\n",
       "      <th>Mother &amp; Baby</th>\n",
       "      <th>Party Supplies</th>\n",
       "      <th>Pet Care</th>\n",
       "      <th>Rice &amp; Cooking Essentials</th>\n",
       "      <th>Wines, Beers &amp; Spirits</th>\n",
       "    </tr>\n",
       "    <tr>\n",
       "      <th>City</th>\n",
       "      <th></th>\n",
       "      <th></th>\n",
       "      <th></th>\n",
       "      <th></th>\n",
       "      <th></th>\n",
       "      <th></th>\n",
       "      <th></th>\n",
       "      <th></th>\n",
       "      <th></th>\n",
       "      <th></th>\n",
       "      <th></th>\n",
       "      <th></th>\n",
       "      <th></th>\n",
       "      <th></th>\n",
       "      <th></th>\n",
       "      <th></th>\n",
       "    </tr>\n",
       "  </thead>\n",
       "  <tbody>\n",
       "    <tr>\n",
       "      <th>Bedok</th>\n",
       "      <td>1547.35443</td>\n",
       "      <td>1869.33409</td>\n",
       "      <td>561.69606</td>\n",
       "      <td>758.55337</td>\n",
       "      <td>635.47957</td>\n",
       "      <td>2075.24268</td>\n",
       "      <td>1261.43275</td>\n",
       "      <td>433.70618</td>\n",
       "      <td>428.08696</td>\n",
       "      <td>395.10865</td>\n",
       "      <td>917.47074</td>\n",
       "      <td>1080.99028</td>\n",
       "      <td>430.59114</td>\n",
       "      <td>1116.62958</td>\n",
       "      <td>274.83975</td>\n",
       "      <td>863.07952</td>\n",
       "    </tr>\n",
       "    <tr>\n",
       "      <th>Jakarta</th>\n",
       "      <td>1110.97992</td>\n",
       "      <td>1427.41745</td>\n",
       "      <td>442.80422</td>\n",
       "      <td>504.03239</td>\n",
       "      <td>492.71662</td>\n",
       "      <td>1810.10219</td>\n",
       "      <td>801.97055</td>\n",
       "      <td>288.37264</td>\n",
       "      <td>343.98665</td>\n",
       "      <td>291.04853</td>\n",
       "      <td>734.15862</td>\n",
       "      <td>780.15072</td>\n",
       "      <td>279.69858</td>\n",
       "      <td>841.60831</td>\n",
       "      <td>232.84367</td>\n",
       "      <td>686.70406</td>\n",
       "    </tr>\n",
       "    <tr>\n",
       "      <th>Kuala Lumpur</th>\n",
       "      <td>1353.53122</td>\n",
       "      <td>1785.27813</td>\n",
       "      <td>508.37646</td>\n",
       "      <td>618.40991</td>\n",
       "      <td>596.25491</td>\n",
       "      <td>2010.92800</td>\n",
       "      <td>878.18689</td>\n",
       "      <td>382.56013</td>\n",
       "      <td>414.93275</td>\n",
       "      <td>337.22202</td>\n",
       "      <td>953.75794</td>\n",
       "      <td>839.96332</td>\n",
       "      <td>257.13198</td>\n",
       "      <td>896.17630</td>\n",
       "      <td>290.85072</td>\n",
       "      <td>834.55466</td>\n",
       "    </tr>\n",
       "    <tr>\n",
       "      <th>Manila</th>\n",
       "      <td>1493.31282</td>\n",
       "      <td>1897.75151</td>\n",
       "      <td>574.34600</td>\n",
       "      <td>724.86912</td>\n",
       "      <td>611.90021</td>\n",
       "      <td>2120.67818</td>\n",
       "      <td>964.28604</td>\n",
       "      <td>412.43837</td>\n",
       "      <td>421.34368</td>\n",
       "      <td>391.96182</td>\n",
       "      <td>977.19762</td>\n",
       "      <td>1075.50897</td>\n",
       "      <td>500.64966</td>\n",
       "      <td>1092.95258</td>\n",
       "      <td>316.74686</td>\n",
       "      <td>879.69002</td>\n",
       "    </tr>\n",
       "    <tr>\n",
       "      <th>Woodlands</th>\n",
       "      <td>719.54291</td>\n",
       "      <td>1010.17185</td>\n",
       "      <td>321.99679</td>\n",
       "      <td>352.19164</td>\n",
       "      <td>332.38705</td>\n",
       "      <td>1244.16743</td>\n",
       "      <td>482.30357</td>\n",
       "      <td>258.40648</td>\n",
       "      <td>259.97779</td>\n",
       "      <td>196.30573</td>\n",
       "      <td>584.04562</td>\n",
       "      <td>485.12860</td>\n",
       "      <td>183.69666</td>\n",
       "      <td>517.88338</td>\n",
       "      <td>151.40924</td>\n",
       "      <td>389.68334</td>\n",
       "    </tr>\n",
       "  </tbody>\n",
       "</table>\n",
       "</div>"
      ],
      "text/plain": [
       "Category      Bakery & Breakfast      Beauty  Beverages  \\\n",
       "City                                                      \n",
       "Bedok                 1547.35443  1869.33409  561.69606   \n",
       "Jakarta               1110.97992  1427.41745  442.80422   \n",
       "Kuala Lumpur          1353.53122  1785.27813  508.37646   \n",
       "Manila                1493.31282  1897.75151  574.34600   \n",
       "Woodlands              719.54291  1010.17185  321.99679   \n",
       "\n",
       "Category      Choco, Snacks, Sweets  Dairy, Chilled & Eggs      Frozen  \\\n",
       "City                                                                     \n",
       "Bedok                     758.55337              635.47957  2075.24268   \n",
       "Jakarta                   504.03239              492.71662  1810.10219   \n",
       "Kuala Lumpur              618.40991              596.25491  2010.92800   \n",
       "Manila                    724.86912              611.90021  2120.67818   \n",
       "Woodlands                 352.19164              332.38705  1244.16743   \n",
       "\n",
       "Category      Fruit & Vegetable     Health  Household  Kitchen & Dining  \\\n",
       "City                                                                      \n",
       "Bedok                1261.43275  433.70618  428.08696         395.10865   \n",
       "Jakarta               801.97055  288.37264  343.98665         291.04853   \n",
       "Kuala Lumpur          878.18689  382.56013  414.93275         337.22202   \n",
       "Manila                964.28604  412.43837  421.34368         391.96182   \n",
       "Woodlands             482.30357  258.40648  259.97779         196.30573   \n",
       "\n",
       "Category      Meat & Seafood  Mother & Baby  Party Supplies    Pet Care  \\\n",
       "City                                                                      \n",
       "Bedok              917.47074     1080.99028       430.59114  1116.62958   \n",
       "Jakarta            734.15862      780.15072       279.69858   841.60831   \n",
       "Kuala Lumpur       953.75794      839.96332       257.13198   896.17630   \n",
       "Manila             977.19762     1075.50897       500.64966  1092.95258   \n",
       "Woodlands          584.04562      485.12860       183.69666   517.88338   \n",
       "\n",
       "Category      Rice & Cooking Essentials  Wines, Beers & Spirits  \n",
       "City                                                             \n",
       "Bedok                         274.83975               863.07952  \n",
       "Jakarta                       232.84367               686.70406  \n",
       "Kuala Lumpur                  290.85072               834.55466  \n",
       "Manila                        316.74686               879.69002  \n",
       "Woodlands                     151.40924               389.68334  "
      ]
     },
     "execution_count": 204,
     "metadata": {},
     "output_type": "execute_result"
    }
   ],
   "source": [
    "\n",
    "pivot = df.pivot_table(index='City', columns='Category', values='Profit Margin',aggfunc ='sum')\n",
    "pivot_sorted = pivot.sum(axis=1).sort_values(ascending=False)\n",
    "\n",
    "pivot\n"
   ]
  },
  {
   "cell_type": "markdown",
   "id": "5194e2f8",
   "metadata": {},
   "source": [
    "Яка середня прибутковість магазину за категорією товару?"
   ]
  },
  {
   "cell_type": "code",
   "execution_count": 205,
   "id": "7461deae",
   "metadata": {
    "scrolled": true
   },
   "outputs": [
    {
     "name": "stdout",
     "output_type": "stream",
     "text": [
      "Category\n",
      "Bakery & Breakfast           0.919457\n",
      "Beauty                       1.535053\n",
      "Beverages                    1.091132\n",
      "Choco, Snacks, Sweets        0.979813\n",
      "Dairy, Chilled & Eggs        0.789334\n",
      "Frozen                       1.448634\n",
      "Fruit & Vegetable            1.004160\n",
      "Health                       1.761393\n",
      "Household                    0.993263\n",
      "Kitchen & Dining             0.631523\n",
      "Meat & Seafood               1.938869\n",
      "Mother & Baby                2.064797\n",
      "Party Supplies               0.899656\n",
      "Pet Care                     1.288672\n",
      "Rice & Cooking Essentials    0.520843\n",
      "Wines, Beers & Spirits       2.131687\n",
      "Name: Profit Margin, dtype: float64\n"
     ]
    },
    {
     "data": {
      "image/png": "[encoded data removed]",
      "text/plain": [
       "<Figure size 1200x600 with 1 Axes>"
      ]
     },
     "metadata": {},
     "output_type": "display_data"
    }
   ],
   "source": [
    "###Яка середня прибутковість магазину за категорією товару?\n",
    "category_profitability = df.groupby('Category')['Profit Margin'].mean()\n",
    "print(category_profitability)\n",
    "categories = category_profitability.index\n",
    "profitability = category_profitability.values\n",
    "plt.figure(figsize=(12, 6))\n",
    "plt.bar(categories, profitability, color='steelblue', alpha=0.7)\n",
    "plt.xlabel('Категорія товарів')\n",
    "plt.ylabel('Середня прибутковість')\n",
    "plt.title('Середня прибутковість за категоріями')\n",
    "plt.xticks(rotation=90)\n",
    "plt.grid(axis='y', alpha=0.3)\n",
    "plt.tight_layout()\n",
    "plt.show()"
   ]
  },
  {
   "cell_type": "markdown",
   "id": "8e6bb83c",
   "metadata": {},
   "source": [
    "Завдяки вирішенню питання ми бачимо що найменш прибуткова категорія товарів це Rice & Cooking Essentials. Але потрібно перевірити яка кількість продажів є за кожною категорією, бо можливо таке, що профіт з окремої продажі невеликий, проте самих продаж багато."
   ]
  },
  {
   "cell_type": "code",
   "execution_count": 106,
   "id": "6face46e",
   "metadata": {},
   "outputs": [
    {
     "name": "stdout",
     "output_type": "stream",
     "text": [
      "20\n",
      "75\n"
     ]
    }
   ],
   "source": [
    "print (pd.options.display.max_columns)\n",
    "print (pd.options.display.max_rows)"
   ]
  },
  {
   "cell_type": "code",
   "execution_count": 111,
   "id": "18d3a06c",
   "metadata": {},
   "outputs": [
    {
     "data": {
      "text/html": [
       "<div>\n",
       "<style scoped>\n",
       "    .dataframe tbody tr th:only-of-type {\n",
       "        vertical-align: middle;\n",
       "    }\n",
       "\n",
       "    .dataframe tbody tr th {\n",
       "        vertical-align: top;\n",
       "    }\n",
       "\n",
       "    .dataframe thead th {\n",
       "        text-align: right;\n",
       "    }\n",
       "</style>\n",
       "<table border=\"1\" class=\"dataframe\">\n",
       "  <thead>\n",
       "    <tr style=\"text-align: right;\">\n",
       "      <th></th>\n",
       "      <th>QTY</th>\n",
       "    </tr>\n",
       "    <tr>\n",
       "      <th>Category</th>\n",
       "      <th></th>\n",
       "    </tr>\n",
       "  </thead>\n",
       "  <tbody>\n",
       "    <tr>\n",
       "      <th>Bakery &amp; Breakfast</th>\n",
       "      <td>6770</td>\n",
       "    </tr>\n",
       "    <tr>\n",
       "      <th>Beauty</th>\n",
       "      <td>5205</td>\n",
       "    </tr>\n",
       "    <tr>\n",
       "      <th>Beverages</th>\n",
       "      <td>2208</td>\n",
       "    </tr>\n",
       "    <tr>\n",
       "      <th>Choco, Snacks, Sweets</th>\n",
       "      <td>3019</td>\n",
       "    </tr>\n",
       "    <tr>\n",
       "      <th>Dairy, Chilled &amp; Eggs</th>\n",
       "      <td>3381</td>\n",
       "    </tr>\n",
       "    <tr>\n",
       "      <th>Frozen</th>\n",
       "      <td>6393</td>\n",
       "    </tr>\n",
       "    <tr>\n",
       "      <th>Fruit &amp; Vegetable</th>\n",
       "      <td>4370</td>\n",
       "    </tr>\n",
       "    <tr>\n",
       "      <th>Health</th>\n",
       "      <td>1008</td>\n",
       "    </tr>\n",
       "    <tr>\n",
       "      <th>Household</th>\n",
       "      <td>1881</td>\n",
       "    </tr>\n",
       "    <tr>\n",
       "      <th>Kitchen &amp; Dining</th>\n",
       "      <td>2552</td>\n",
       "    </tr>\n",
       "    <tr>\n",
       "      <th>Meat &amp; Seafood</th>\n",
       "      <td>2149</td>\n",
       "    </tr>\n",
       "    <tr>\n",
       "      <th>Mother &amp; Baby</th>\n",
       "      <td>2064</td>\n",
       "    </tr>\n",
       "    <tr>\n",
       "      <th>Party Supplies</th>\n",
       "      <td>1836</td>\n",
       "    </tr>\n",
       "    <tr>\n",
       "      <th>Pet Care</th>\n",
       "      <td>3465</td>\n",
       "    </tr>\n",
       "    <tr>\n",
       "      <th>Rice &amp; Cooking Essentials</th>\n",
       "      <td>2432</td>\n",
       "    </tr>\n",
       "    <tr>\n",
       "      <th>Wines, Beers &amp; Spirits</th>\n",
       "      <td>1714</td>\n",
       "    </tr>\n",
       "  </tbody>\n",
       "</table>\n",
       "</div>"
      ],
      "text/plain": [
       "                            QTY\n",
       "Category                       \n",
       "Bakery & Breakfast         6770\n",
       "Beauty                     5205\n",
       "Beverages                  2208\n",
       "Choco, Snacks, Sweets      3019\n",
       "Dairy, Chilled & Eggs      3381\n",
       "Frozen                     6393\n",
       "Fruit & Vegetable          4370\n",
       "Health                     1008\n",
       "Household                  1881\n",
       "Kitchen & Dining           2552\n",
       "Meat & Seafood             2149\n",
       "Mother & Baby              2064\n",
       "Party Supplies             1836\n",
       "Pet Care                   3465\n",
       "Rice & Cooking Essentials  2432\n",
       "Wines, Beers & Spirits     1714"
      ]
     },
     "execution_count": 111,
     "metadata": {},
     "output_type": "execute_result"
    }
   ],
   "source": [
    "df.pivot_table(index='Category', values='QTY', aggfunc='count')"
   ]
  },
  {
   "cell_type": "code",
   "execution_count": 110,
   "id": "0623efa2",
   "metadata": {},
   "outputs": [
    {
     "data": {
      "image/png": "[encoded data removed]",
      "text/plain": [
       "<Figure size 1000x600 with 1 Axes>"
      ]
     },
     "metadata": {},
     "output_type": "display_data"
    }
   ],
   "source": [
    "result = df.pivot_table(index='Category', values='QTY', aggfunc='count')\n",
    "categories = result.index\n",
    "quantity = result['QTY']\n",
    "plt.figure(figsize=(10, 6))\n",
    "plt.scatter(categories, quantity, color='green', alpha=0.7)\n",
    "plt.xlabel('Категорія')\n",
    "plt.ylabel('Кількість продаж')\n",
    "plt.title('Кількість продаж за категорією')\n",
    "plt.xticks(rotation=90)\n",
    "plt.grid(axis='y', alpha=0.3)\n",
    "plt.tight_layout()\n",
    "plt.show()"
   ]
  },
  {
   "cell_type": "markdown",
   "id": "8a2e50aa",
   "metadata": {},
   "source": [
    "Кількість продаж достатньо велика, на мій погляд, тому не будемо пропонувати прибрати цю категорію товару. "
   ]
  },
  {
   "cell_type": "code",
   "execution_count": null,
   "id": "f6986fae",
   "metadata": {},
   "outputs": [],
   "source": [
    "Порахувати прибуток магазінів у місті та середній чек."
   ]
  },
  {
   "cell_type": "code",
   "execution_count": 134,
   "id": "4565677c",
   "metadata": {},
   "outputs": [
    {
     "data": {
      "text/plain": [
       "'Прибуток магазинів:'"
      ]
     },
     "metadata": {},
     "output_type": "display_data"
    },
    {
     "data": {
      "text/plain": [
       "City\n",
       "Bedok           844156.343232\n",
       "Jakarta         662101.921690\n",
       "Kuala Lumpur    752683.296086\n",
       "Manila          875093.650504\n",
       "Woodlands       430149.487558\n",
       "Name: Net Profit, dtype: float64"
      ]
     },
     "metadata": {},
     "output_type": "display_data"
    },
    {
     "data": {
      "text/plain": [
       "'Cередній чек за містом'"
      ]
     },
     "metadata": {},
     "output_type": "display_data"
    },
    {
     "data": {
      "text/plain": [
       "City\n",
       "Bedok           68.787186\n",
       "Jakarta         72.694546\n",
       "Kuala Lumpur    69.932481\n",
       "Manila          70.686078\n",
       "Woodlands       72.611325\n",
       "Name: Net Profit, dtype: float64"
      ]
     },
     "metadata": {},
     "output_type": "display_data"
    }
   ],
   "source": [
    "city_net_profit = df.groupby('City')['Net Profit'].sum()\n",
    "mean_city_net_profit = df.groupby('City')['Net Profit'].mean()\n",
    "display(f'Прибуток магазинів:',city_net_profit, 'Cередній чек за містом', mean_city_net_profit)"
   ]
  },
  {
   "cell_type": "code",
   "execution_count": 138,
   "id": "48d72096",
   "metadata": {},
   "outputs": [],
   "source": []
  },
  {
   "cell_type": "code",
   "execution_count": 147,
   "id": "254a8823",
   "metadata": {},
   "outputs": [
    {
     "data": {
      "image/png": "[encoded data removed]",
      "text/plain": [
       "<Figure size 1000x1000 with 2 Axes>"
      ]
     },
     "metadata": {},
     "output_type": "display_data"
    }
   ],
   "source": [
    "fig, (ax1, ax2) = plt.subplots(2, 1, figsize=(10, 10))\n",
    "ax1.bar(city_net_profit.index, city_net_profit.values, color='steelblue', alpha=0.7)\n",
    "ax1.set_ylabel('Прібуток')\n",
    "ax1.set_title('Загальний прибуток')\n",
    "ax1.grid(axis='y', alpha=0.3)\n",
    "ax2.bar(mean_city_net_profit.index, mean_city_net_profit.values, color='grey', alpha=0.7)\n",
    "ax2.set_xlabel('Мисто')\n",
    "ax2.set_ylabel('Середній чек')\n",
    "ax2.set_title('Середній чек за містом')\n",
    "ax2.grid(axis='y', alpha=0.3)\n",
    "plt.xticks(rotation=90)\n",
    "plt.tight_layout()\n",
    "plt.show()"
   ]
  },
  {
   "cell_type": "code",
   "execution_count": 235,
   "id": "2ab60df3",
   "metadata": {},
   "outputs": [
    {
     "data": {
      "text/html": [
       "<div>\n",
       "<style scoped>\n",
       "    .dataframe tbody tr th:only-of-type {\n",
       "        vertical-align: middle;\n",
       "    }\n",
       "\n",
       "    .dataframe tbody tr th {\n",
       "        vertical-align: top;\n",
       "    }\n",
       "\n",
       "    .dataframe thead th {\n",
       "        text-align: right;\n",
       "    }\n",
       "</style>\n",
       "<table border=\"1\" class=\"dataframe\">\n",
       "  <thead>\n",
       "    <tr style=\"text-align: right;\">\n",
       "      <th></th>\n",
       "      <th>Loyalty Card Points</th>\n",
       "      <th>Net Bill Amount</th>\n",
       "      <th>Count</th>\n",
       "    </tr>\n",
       "  </thead>\n",
       "  <tbody>\n",
       "    <tr>\n",
       "      <th>0</th>\n",
       "      <td>0</td>\n",
       "      <td>1.0176</td>\n",
       "      <td>1</td>\n",
       "    </tr>\n",
       "    <tr>\n",
       "      <th>1</th>\n",
       "      <td>0</td>\n",
       "      <td>1.0296</td>\n",
       "      <td>1</td>\n",
       "    </tr>\n",
       "    <tr>\n",
       "      <th>2</th>\n",
       "      <td>0</td>\n",
       "      <td>1.0379</td>\n",
       "      <td>1</td>\n",
       "    </tr>\n",
       "    <tr>\n",
       "      <th>3</th>\n",
       "      <td>0</td>\n",
       "      <td>1.2255</td>\n",
       "      <td>1</td>\n",
       "    </tr>\n",
       "    <tr>\n",
       "      <th>4</th>\n",
       "      <td>0</td>\n",
       "      <td>1.2375</td>\n",
       "      <td>1</td>\n",
       "    </tr>\n",
       "    <tr>\n",
       "      <th>...</th>\n",
       "      <td>...</td>\n",
       "      <td>...</td>\n",
       "      <td>...</td>\n",
       "    </tr>\n",
       "    <tr>\n",
       "      <th>41085</th>\n",
       "      <td>112</td>\n",
       "      <td>99.3280</td>\n",
       "      <td>1</td>\n",
       "    </tr>\n",
       "    <tr>\n",
       "      <th>41086</th>\n",
       "      <td>112</td>\n",
       "      <td>527.6680</td>\n",
       "      <td>2</td>\n",
       "    </tr>\n",
       "    <tr>\n",
       "      <th>41087</th>\n",
       "      <td>113</td>\n",
       "      <td>22.8000</td>\n",
       "      <td>1</td>\n",
       "    </tr>\n",
       "    <tr>\n",
       "      <th>41088</th>\n",
       "      <td>115</td>\n",
       "      <td>34.1925</td>\n",
       "      <td>1</td>\n",
       "    </tr>\n",
       "    <tr>\n",
       "      <th>41089</th>\n",
       "      <td>116</td>\n",
       "      <td>34.1925</td>\n",
       "      <td>1</td>\n",
       "    </tr>\n",
       "  </tbody>\n",
       "</table>\n",
       "<p>41090 rows × 3 columns</p>\n",
       "</div>"
      ],
      "text/plain": [
       "       Loyalty Card Points  Net Bill Amount  Count\n",
       "0                        0           1.0176      1\n",
       "1                        0           1.0296      1\n",
       "2                        0           1.0379      1\n",
       "3                        0           1.2255      1\n",
       "4                        0           1.2375      1\n",
       "...                    ...              ...    ...\n",
       "41085                  112          99.3280      1\n",
       "41086                  112         527.6680      2\n",
       "41087                  113          22.8000      1\n",
       "41088                  115          34.1925      1\n",
       "41089                  116          34.1925      1\n",
       "\n",
       "[41090 rows x 3 columns]"
      ]
     },
     "metadata": {},
     "output_type": "display_data"
    }
   ],
   "source": [
    "loyalty_purchase_counts = df.groupby(['Loyalty Card Points', 'Net Bill Amount']).size().reset_index(name='Count')\n",
    "display(loyalty_purchase_counts)"
   ]
  },
  {
   "cell_type": "markdown",
   "id": "83bc90a3",
   "metadata": {},
   "source": [
    "Який був дохід у різні роки?"
   ]
  },
  {
   "cell_type": "code",
   "execution_count": 275,
   "id": "6cd66f39",
   "metadata": {},
   "outputs": [
    {
     "data": {
      "text/plain": [
       "Year\n",
       "2016     736961.0\n",
       "2017     791862.0\n",
       "2018     917032.0\n",
       "2019    1118330.0\n",
       "Name: Net Profit, dtype: float64"
      ]
     },
     "metadata": {},
     "output_type": "display_data"
    },
    {
     "data": {
      "image/png": "[encoded data removed]",
      "text/plain": [
       "<Figure size 640x480 with 1 Axes>"
      ]
     },
     "metadata": {},
     "output_type": "display_data"
    }
   ],
   "source": [
    "income_by_year = df.groupby('Year')['Net Profit'].sum().round(0)\n",
    "display(income_by_year)\n"
   ]
  },
  {
   "cell_type": "code",
   "execution_count": 276,
   "id": "c5ab6a85",
   "metadata": {},
   "outputs": [
    {
     "data": {
      "image/png": "[encoded data removed]",
      "text/plain": [
       "<Figure size 640x480 with 1 Axes>"
      ]
     },
     "metadata": {},
     "output_type": "display_data"
    }
   ],
   "source": [
    "income_by_year.plot(kind='bar', color='steelblue', alpha=0.7)\n",
    "plt.xlabel('Рік')\n",
    "plt.ylabel('Дохід')\n",
    "plt.title('Дохід')\n",
    "plt.show()"
   ]
  },
  {
   "cell_type": "code",
   "execution_count": null,
   "id": "414c4523",
   "metadata": {},
   "outputs": [],
   "source": []
  }
 ],
 "metadata": {
  "kernelspec": {
   "display_name": "Python 3 (ipykernel)",
   "language": "python",
   "name": "python3"
  },
  "language_info": {
   "codemirror_mode": {
    "name": "ipython",
    "version": 3
   },
   "file_extension": ".py",
   "mimetype": "text/x-python",
   "name": "python",
   "nbconvert_exporter": "python",
   "pygments_lexer": "ipython3",
   "version": "3.10.9"
  },
  "toc": {
   "base_numbering": 1,
   "nav_menu": {},
   "number_sections": true,
   "sideBar": true,
   "skip_h1_title": false,
   "title_cell": "Table of Contents",
   "title_sidebar": "Contents",
   "toc_cell": false,
   "toc_position": {},
   "toc_section_display": true,
   "toc_window_display": false
  }
 },
 "nbformat": 4,
 "nbformat_minor": 5
}
